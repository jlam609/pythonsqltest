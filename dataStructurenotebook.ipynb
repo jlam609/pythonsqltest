{
 "metadata": {
  "language_info": {
   "codemirror_mode": {
    "name": "ipython",
    "version": 3
   },
   "file_extension": ".py",
   "mimetype": "text/x-python",
   "name": "python",
   "nbconvert_exporter": "python",
   "pygments_lexer": "ipython3",
   "version": "3.8.3"
  },
  "orig_nbformat": 2,
  "kernelspec": {
   "name": "python383jvsc74a57bd0dca0ade3e726a953b501b15e8e990130d2b7799f14cfd9f4271676035ebe5511",
   "display_name": "Python 3.8.3 64-bit ('base': conda)"
  }
 },
 "nbformat": 4,
 "nbformat_minor": 2,
 "cells": [
  {
   "cell_type": "code",
   "execution_count": 1,
   "metadata": {},
   "outputs": [],
   "source": [
    "class Node:\n",
    "    def __init__(self, value):\n",
    "        self.value = value\n",
    "        self.prev = None\n",
    "        self.next = None\n",
    "\n",
    "class LinkedList:\n",
    "    def __init__(self):\n",
    "        self.head = None\n",
    "        self.tail = None\n",
    "    def setHead(self, value):\n",
    "        node = Node(value)\n",
    "        if (not self.head):\n",
    "            self.head = node\n",
    "            self.tail = node\n",
    "    def insert(self, value):\n",
    "        node = Node(value) \n",
    "        if (not self.head):\n",
    "            return self.setHead(value)\n",
    "        else:\n",
    "            self.tail.next = node\n",
    "            node.prev = self.tail\n",
    "            self.tail = self.tail.next\n",
    "        return self\n",
    "    def remove(self, value):\n",
    "        cur = self.head\n",
    "        while (cur):\n",
    "            print(cur)\n",
    "            if cur.value == value:\n",
    "                if cur == self.head:\n",
    "                    self.head = self.head.next\n",
    "                    self.head.prev = null\n",
    "                elif cur == self.tail:\n",
    "                    self.tail = self.tail.prev\n",
    "                    self.tail.next = None\n",
    "                else:\n",
    "                    cur.next.prev = cur.prev\n",
    "                    cur.prev.next = cur.next\n",
    "                    cur.next = null\n",
    "                    cur.prev = null\n",
    "                return\n",
    "            cur = cur.next\n",
    "        return self\n",
    "    def getValues(self):\n",
    "        values = []\n",
    "        cur = self.head\n",
    "        while(cur):\n",
    "            values.append(cur.value)\n",
    "            cur = cur.next\n",
    "        return values"
   ]
  },
  {
   "cell_type": "code",
   "execution_count": 3,
   "metadata": {},
   "outputs": [
    {
     "output_type": "stream",
     "name": "stdout",
     "text": [
      "<__main__.Node object at 0x7fcf9c462ca0>\n<__main__.Node object at 0x7fcf9c462760>\n[10]\n"
     ]
    }
   ],
   "source": [
    "TestList = LinkedList()\n",
    "TestList.insert(10)\n",
    "TestList.insert(5)\n",
    "TestList.remove(5)\n",
    "print(TestList.getValues())"
   ]
  },
  {
   "cell_type": "code",
   "execution_count": 7,
   "metadata": {},
   "outputs": [
    {
     "output_type": "stream",
     "name": "stdout",
     "text": [
      "<__main__.Queue object at 0x7fcf9c91ff70> 5\n"
     ]
    }
   ],
   "source": [
    "from collections import deque\n",
    "\n",
    "class Queue:\n",
    "    def __init__(self):\n",
    "        self.queue = deque([])\n",
    "    def insert(self,value):\n",
    "        self.queue.append(value)\n",
    "    def remove(self):\n",
    "        return self.queue.popleft()\n",
    "    def peek(self):\n",
    "        return self.queue[0]\n",
    "\n",
    "TestQueue = Queue()\n",
    "TestQueue.insert(5)\n",
    "TestQueue.insert(6)\n",
    "TestQueue.insert(15)\n",
    "print(TestQueue, TestQueue.remove())"
   ]
  },
  {
   "cell_type": "code",
   "execution_count": 10,
   "metadata": {},
   "outputs": [
    {
     "output_type": "stream",
     "name": "stdout",
     "text": [
      "Server:GitHub.com\nDate:Mon, 26 Apr 2021 16:36:18 GMT\nCache-Control:public, max-age=60, s-maxage=60\nVary:Accept, Accept-Encoding, Accept, X-Requested-With\nETag:\"27278c3efffccc4a7be1bf315653b901b14f2989b2c2600d7cc2e90a97ffbf60\"\nAccess-Control-Expose-Headers:ETag, Link, Location, Retry-After, X-GitHub-OTP, X-RateLimit-Limit, X-RateLimit-Remaining, X-RateLimit-Used, X-RateLimit-Reset, X-OAuth-Scopes, X-Accepted-OAuth-Scopes, X-Poll-Interval, X-GitHub-Media-Type, Deprecation, Sunset\nAccess-Control-Allow-Origin:*\nStrict-Transport-Security:max-age=31536000; includeSubdomains; preload\nX-Frame-Options:deny\nX-Content-Type-Options:nosniff\nX-XSS-Protection:0\nReferrer-Policy:origin-when-cross-origin, strict-origin-when-cross-origin\nContent-Security-Policy:default-src 'none'\nContent-Type:application/json; charset=utf-8\nX-GitHub-Media-Type:github.v3; format=json\nContent-Encoding:gzip\nX-RateLimit-Limit:60\nX-RateLimit-Remaining:50\nX-RateLimit-Reset:1619458153\nX-RateLimit-Used:10\nAccept-Ranges:bytes\nContent-Length:512\nX-GitHub-Request-Id:F5BC:7AC3:B25E1C:199127E:6086EC08\n"
     ]
    }
   ],
   "source": [
    "import requests \n",
    "r = requests.get('https://api.github.com')\n",
    "headers = r.headers\n",
    "for key in headers:\n",
    "    print(f'{key}:{headers[key]}')"
   ]
  },
  {
   "cell_type": "code",
   "execution_count": null,
   "metadata": {},
   "outputs": [],
   "source": []
  }
 ]
}